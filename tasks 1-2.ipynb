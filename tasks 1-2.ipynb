{
 "cells": [
  {
   "cell_type": "code",
   "execution_count": 1,
   "metadata": {},
   "outputs": [
    {
     "name": "stdout",
     "output_type": "stream",
     "text": [
      "[2, 7, 9, 'cat', 42]\n"
     ]
    }
   ],
   "source": [
    "#задание 1\n",
    "l=[2,'cat',7,2,9,'cat',7,42]\n",
    "k=0\n",
    "for i in range(0,len(l)):\n",
    "    if l.count(l[-i])>1:\n",
    "        k=k+1        \n",
    "for i in range(1,len(l)-k//2+1):\n",
    "    if l.count(l[-i])>1:\n",
    "        del l[-i]\n",
    "print(l)"
   ]
  },
  {
   "cell_type": "code",
   "execution_count": 2,
   "metadata": {},
   "outputs": [
    {
     "name": "stdout",
     "output_type": "stream",
     "text": [
      "[1, 2, 2, 3, 7]\n"
     ]
    }
   ],
   "source": [
    "#задание 2 (не совсем получилось)\n",
    "#сложение\n",
    "num1=[1,3,9,8]\n",
    "num2=[8,3,9]\n",
    "num3=[]\n",
    "d=0\n",
    "while len(num1)>len(num2):\n",
    "     num2=[0]+num2\n",
    "while len(num2)>len(num1):\n",
    "     num1=[0]+num1\n",
    "num1=[0]+num1\n",
    "num2=[0]+num2\n",
    "for i in range(1,5):\n",
    "    n=d//10\n",
    "    d=num1[-i]+num2[-i] \n",
    "    num3=[(d%10+n)%10]+ num3\n",
    "num3=[n%10]+ num3\n",
    "print(num3)"
   ]
  },
  {
   "cell_type": "code",
   "execution_count": 4,
   "metadata": {},
   "outputs": [
    {
     "name": "stdout",
     "output_type": "stream",
     "text": [
      "[8, 1, 5, 9]\n"
     ]
    }
   ],
   "source": [
    "#вычитание\n",
    "num1=[8,3,9,8]\n",
    "num2=[2,3,9]\n",
    "num3=[]\n",
    "d=c=0\n",
    "while len(num1)>len(num2):\n",
    "     num2=[0]+num2\n",
    "while len(num2)>len(num1):\n",
    "     num1=[0]+num1\n",
    "num1=[0]+num1\n",
    "num2=[0]+num2\n",
    "for i in range(1,6):\n",
    "    n=d//10\n",
    "    d=num1[-i]-num2[-i] \n",
    "    num3=[(d%10+n)%10]+ num3\n",
    "if num3[0]==0:\n",
    "    del num3[0]\n",
    "print(num3)"
   ]
  },
  {
   "cell_type": "code",
   "execution_count": null,
   "metadata": {},
   "outputs": [],
   "source": []
  }
 ],
 "metadata": {
  "kernelspec": {
   "display_name": "Python 3",
   "language": "python",
   "name": "python3"
  },
  "language_info": {
   "codemirror_mode": {
    "name": "ipython",
    "version": 3
   },
   "file_extension": ".py",
   "mimetype": "text/x-python",
   "name": "python",
   "nbconvert_exporter": "python",
   "pygments_lexer": "ipython3",
   "version": "3.7.3"
  }
 },
 "nbformat": 4,
 "nbformat_minor": 2
}
