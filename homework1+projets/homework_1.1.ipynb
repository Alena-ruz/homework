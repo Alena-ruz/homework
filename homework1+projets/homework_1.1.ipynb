{
 "cells": [
  {
   "cell_type": "code",
   "execution_count": 1,
   "metadata": {},
   "outputs": [],
   "source": [
    "def parking(day,hour):\n",
    "    if hour < 0 or hour >= 0:\n",
    "        return print(\"invalid hour\")\n",
    "    else:\n",
    "        if 19 <= hour < 21:\n",
    "            return print(\"both\")\n",
    "        elif day%2 == 0:\n",
    "            if 21 <= hour <24:\n",
    "                return print(\"left\")\n",
    "            else:\n",
    "                return print(\"right\")\n",
    "        else:\n",
    "            if 21<= hour <= 24:\n",
    "                return  print(\"right\")\n",
    "            else: \n",
    "                return print(\"left\")\n",
    "    "
   ]
  },
  {
   "cell_type": "code",
   "execution_count": 2,
   "metadata": {},
   "outputs": [
    {
     "name": "stdout",
     "output_type": "stream",
     "text": [
      "invalid hour\n",
      "left\n",
      "left\n",
      "right\n",
      "both\n"
     ]
    }
   ],
   "source": [
    "parking(12,56)\n",
    "parking(12,22)\n",
    "parking(9,1)\n",
    "parking(7,21)\n",
    "parking(31,19)"
   ]
  },
  {
   "cell_type": "code",
   "execution_count": null,
   "metadata": {},
   "outputs": [],
   "source": []
  }
 ],
 "metadata": {
  "kernelspec": {
   "display_name": "Python 3",
   "language": "python",
   "name": "python3"
  },
  "language_info": {
   "codemirror_mode": {
    "name": "ipython",
    "version": 3
   },
   "file_extension": ".py",
   "mimetype": "text/x-python",
   "name": "python",
   "nbconvert_exporter": "python",
   "pygments_lexer": "ipython3",
   "version": "3.7.3"
  }
 },
 "nbformat": 4,
 "nbformat_minor": 2
}
