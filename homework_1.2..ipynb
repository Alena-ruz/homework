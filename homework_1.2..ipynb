{
 "cells": [
  {
   "cell_type": "code",
   "execution_count": 60,
   "metadata": {},
   "outputs": [],
   "source": [
    "def palindrom(n):\n",
    "    if 0 < n < 10000:\n",
    "        z1 = n//1000\n",
    "        a1 = n//100\n",
    "        z2 = a1 - 10*z1\n",
    "        a2 = n//10\n",
    "        z3 = a2 - 10*a1\n",
    "        z4 = n - 10*a2\n",
    "        if (z1 == z4) & (z2 == z3):\n",
    "            return print (\"palindrom\")\n",
    "        else: \n",
    "            return print (\"not palindrom\")\n",
    "    else:\n",
    "         return print (\"invalid n\")"
   ]
  },
  {
   "cell_type": "code",
   "execution_count": 61,
   "metadata": {},
   "outputs": [
    {
     "name": "stdout",
     "output_type": "stream",
     "text": [
      "not palindrom\n",
      "palindrom\n",
      "invalid n\n",
      "palindrom\n"
     ]
    }
   ],
   "source": [
    "palindrom(334)\n",
    "palindrom(8778)\n",
    "palindrom(100045)\n",
    "palindrom(440)"
   ]
  }
 ],
 "metadata": {
  "kernelspec": {
   "display_name": "Python 3",
   "language": "python",
   "name": "python3"
  },
  "language_info": {
   "codemirror_mode": {
    "name": "ipython",
    "version": 3
   },
   "file_extension": ".py",
   "mimetype": "text/x-python",
   "name": "python",
   "nbconvert_exporter": "python",
   "pygments_lexer": "ipython3",
   "version": "3.7.3"
  }
 },
 "nbformat": 4,
 "nbformat_minor": 2
}
